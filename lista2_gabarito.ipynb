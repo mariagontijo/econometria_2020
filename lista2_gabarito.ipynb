{
 "cells": [
  {
   "cell_type": "markdown",
   "metadata": {},
   "source": [
    "# Lista 2 - Gabarito computacional - Econometria"
   ]
  },
  {
   "cell_type": "markdown",
   "metadata": {},
   "source": [
    "#### Matrizes\n",
    "Para trabalhar com matrizes vocês irão precisar do pacote numpy. Para facilitar a estrita, salvaremos numpy como np"
   ]
  },
  {
   "cell_type": "markdown",
   "metadata": {},
   "source": [
    "### Sabemos que a inversa de I - A pode ser escrita como (𝐼 − 𝐴)−1= 𝐼 + 𝐴2 + 𝐴3 + ...+ A9. \n",
    "### Deste modo, calcule a aproximação (𝐼 − 𝐴)−1 = 𝐼 + 𝐴 + 𝐴2 + 𝐴3 + ... + 𝐴9 e compare este resultado com o resultado direto da ferramenta usada computacionalmente. Os dois resultados conferem até qual casa decimal?\n"
   ]
  },
  {
   "cell_type": "markdown",
   "metadata": {},
   "source": [
    "#### Imports..."
   ]
  },
  {
   "cell_type": "code",
   "execution_count": 87,
   "metadata": {},
   "outputs": [],
   "source": [
    "import numpy as np \n",
    "from numpy import *\n",
    "from numpy.linalg import inv"
   ]
  },
  {
   "cell_type": "markdown",
   "metadata": {},
   "source": [
    "#### Matriz A dada pelo enunciado"
   ]
  },
  {
   "cell_type": "code",
   "execution_count": 240,
   "metadata": {},
   "outputs": [
    {
     "data": {
      "text/plain": [
       "matrix([[0.   , 0.25 , 0.125],\n",
       "        [0.25 , 0.125, 0.1  ],\n",
       "        [0.125, 0.1  , 0.1  ]])"
      ]
     },
     "execution_count": 240,
     "metadata": {},
     "output_type": "execute_result"
    }
   ],
   "source": [
    "a = np.matrix('0 0.25 0.125; 0.25 0.125 0.1; 0.125 0.1 0.1')\n",
    "a"
   ]
  },
  {
   "cell_type": "markdown",
   "metadata": {},
   "source": [
    "#### Resultado da utilização do pacote computacional que inverte a matriz I-A"
   ]
  },
  {
   "cell_type": "code",
   "execution_count": 238,
   "metadata": {},
   "outputs": [
    {
     "data": {
      "text/plain": [
       "matrix([[1.10861089, 0.3386432 , 0.19160076],\n",
       "        [0.3386432 , 1.26100033, 0.18714493],\n",
       "        [0.19160076, 0.18714493, 1.15851621]])"
      ]
     },
     "execution_count": 238,
     "metadata": {},
     "output_type": "execute_result"
    }
   ],
   "source": [
    "I=np.matrix('1 0 0; 0 1 0; 0 0 1')\n",
    "matriz=I-a\n",
    "inv(matriz)"
   ]
  },
  {
   "cell_type": "markdown",
   "metadata": {},
   "source": [
    "#### Resultado de (I + A^2 + A^3 +...+ A^9)"
   ]
  },
  {
   "cell_type": "code",
   "execution_count": 237,
   "metadata": {},
   "outputs": [
    {
     "data": {
      "text/plain": [
       "matrix([[1.10899018, 0.33909152, 0.1919057 ],\n",
       "        [0.33909152, 1.26154239, 0.18751166],\n",
       "        [0.1919057 , 0.18751166, 1.15876464]])"
      ]
     },
     "execution_count": 237,
     "metadata": {},
     "output_type": "execute_result"
    }
   ],
   "source": [
    "I + a + a*a + a*a*a + a*a*a*a + a*a*a*a*a + a*a*a*a*a*a + a*a*a*a*a*a*a + a*a*a*a*a*a*a*a + a*a*a*a*a*a*a*a + a*a*a*a*a*a*a*a + a*a*a*a*a*a*a*a*a"
   ]
  },
  {
   "cell_type": "markdown",
   "metadata": {},
   "source": [
    "#### Deste modo, note que o resultado confere até a quarta casa decimal. "
   ]
  },
  {
   "cell_type": "markdown",
   "metadata": {},
   "source": [
    "## Exercício 7"
   ]
  },
  {
   "cell_type": "markdown",
   "metadata": {},
   "source": [
    "### Use o arquivo WAGE1.RAW para o exercício.\n",
    "### a) Estime a equação 𝑤𝑎𝑔𝑒 = 𝛽0 + 𝛽1𝑒𝑑𝑢𝑐 + 𝛽2𝑒𝑥𝑝𝑒𝑟𝑡 + 𝛽3𝑡𝑒𝑛𝑢𝑟𝑒 + 𝑢. Salve os resíduos e plote um histograma.\n",
    "\n",
    "### b) Repita a letra a) mas coloque log(wage) como variável dependente.\n",
    "\n",
    "### c) Cite MLR.6. Você diria que MLR.6 é melhor satisfeita pelo modelo nível-nivel ou log-nível?"
   ]
  },
  {
   "cell_type": "markdown",
   "metadata": {},
   "source": [
    "#### Histograma"
   ]
  },
  {
   "cell_type": "markdown",
   "metadata": {},
   "source": [
    "Para realização do histograma salvaremos os resíduos da regressão da letra a) na variável res_1 e o resíduos da regressão da letra b) na variável res_2. Para responder a letra c) devemos observar como o histograma se aproxima de uma distribuição normal. "
   ]
  },
  {
   "cell_type": "code",
   "execution_count": 90,
   "metadata": {},
   "outputs": [],
   "source": [
    "import pandas as pd"
   ]
  },
  {
   "cell_type": "code",
   "execution_count": 132,
   "metadata": {},
   "outputs": [],
   "source": [
    "df = pd.read_stata('wage1.dta.tga')"
   ]
  },
  {
   "cell_type": "code",
   "execution_count": 133,
   "metadata": {},
   "outputs": [
    {
     "data": {
      "text/html": [
       "<div>\n",
       "<style scoped>\n",
       "    .dataframe tbody tr th:only-of-type {\n",
       "        vertical-align: middle;\n",
       "    }\n",
       "\n",
       "    .dataframe tbody tr th {\n",
       "        vertical-align: top;\n",
       "    }\n",
       "\n",
       "    .dataframe thead th {\n",
       "        text-align: right;\n",
       "    }\n",
       "</style>\n",
       "<table border=\"1\" class=\"dataframe\">\n",
       "  <thead>\n",
       "    <tr style=\"text-align: right;\">\n",
       "      <th></th>\n",
       "      <th>wage</th>\n",
       "      <th>educ</th>\n",
       "      <th>exper</th>\n",
       "      <th>tenure</th>\n",
       "      <th>nonwhite</th>\n",
       "      <th>female</th>\n",
       "      <th>married</th>\n",
       "      <th>numdep</th>\n",
       "      <th>smsa</th>\n",
       "      <th>northcen</th>\n",
       "      <th>...</th>\n",
       "      <th>trcommpu</th>\n",
       "      <th>trade</th>\n",
       "      <th>services</th>\n",
       "      <th>profserv</th>\n",
       "      <th>profocc</th>\n",
       "      <th>clerocc</th>\n",
       "      <th>servocc</th>\n",
       "      <th>lwage</th>\n",
       "      <th>expersq</th>\n",
       "      <th>tenursq</th>\n",
       "    </tr>\n",
       "  </thead>\n",
       "  <tbody>\n",
       "    <tr>\n",
       "      <td>0</td>\n",
       "      <td>3.10</td>\n",
       "      <td>11.0</td>\n",
       "      <td>2.0</td>\n",
       "      <td>0.0</td>\n",
       "      <td>0.0</td>\n",
       "      <td>1.0</td>\n",
       "      <td>0.0</td>\n",
       "      <td>2.0</td>\n",
       "      <td>1.0</td>\n",
       "      <td>0.0</td>\n",
       "      <td>...</td>\n",
       "      <td>0.0</td>\n",
       "      <td>0.0</td>\n",
       "      <td>0.0</td>\n",
       "      <td>0.0</td>\n",
       "      <td>0.0</td>\n",
       "      <td>0.0</td>\n",
       "      <td>0.0</td>\n",
       "      <td>1.131402</td>\n",
       "      <td>4.0</td>\n",
       "      <td>0.0</td>\n",
       "    </tr>\n",
       "    <tr>\n",
       "      <td>1</td>\n",
       "      <td>3.24</td>\n",
       "      <td>12.0</td>\n",
       "      <td>22.0</td>\n",
       "      <td>2.0</td>\n",
       "      <td>0.0</td>\n",
       "      <td>1.0</td>\n",
       "      <td>1.0</td>\n",
       "      <td>3.0</td>\n",
       "      <td>1.0</td>\n",
       "      <td>0.0</td>\n",
       "      <td>...</td>\n",
       "      <td>0.0</td>\n",
       "      <td>0.0</td>\n",
       "      <td>1.0</td>\n",
       "      <td>0.0</td>\n",
       "      <td>0.0</td>\n",
       "      <td>0.0</td>\n",
       "      <td>1.0</td>\n",
       "      <td>1.175573</td>\n",
       "      <td>484.0</td>\n",
       "      <td>4.0</td>\n",
       "    </tr>\n",
       "    <tr>\n",
       "      <td>2</td>\n",
       "      <td>3.00</td>\n",
       "      <td>11.0</td>\n",
       "      <td>2.0</td>\n",
       "      <td>0.0</td>\n",
       "      <td>0.0</td>\n",
       "      <td>0.0</td>\n",
       "      <td>0.0</td>\n",
       "      <td>2.0</td>\n",
       "      <td>0.0</td>\n",
       "      <td>0.0</td>\n",
       "      <td>...</td>\n",
       "      <td>0.0</td>\n",
       "      <td>1.0</td>\n",
       "      <td>0.0</td>\n",
       "      <td>0.0</td>\n",
       "      <td>0.0</td>\n",
       "      <td>0.0</td>\n",
       "      <td>0.0</td>\n",
       "      <td>1.098612</td>\n",
       "      <td>4.0</td>\n",
       "      <td>0.0</td>\n",
       "    </tr>\n",
       "    <tr>\n",
       "      <td>3</td>\n",
       "      <td>6.00</td>\n",
       "      <td>8.0</td>\n",
       "      <td>44.0</td>\n",
       "      <td>28.0</td>\n",
       "      <td>0.0</td>\n",
       "      <td>0.0</td>\n",
       "      <td>1.0</td>\n",
       "      <td>0.0</td>\n",
       "      <td>1.0</td>\n",
       "      <td>0.0</td>\n",
       "      <td>...</td>\n",
       "      <td>0.0</td>\n",
       "      <td>0.0</td>\n",
       "      <td>0.0</td>\n",
       "      <td>0.0</td>\n",
       "      <td>0.0</td>\n",
       "      <td>1.0</td>\n",
       "      <td>0.0</td>\n",
       "      <td>1.791759</td>\n",
       "      <td>1936.0</td>\n",
       "      <td>784.0</td>\n",
       "    </tr>\n",
       "    <tr>\n",
       "      <td>4</td>\n",
       "      <td>5.30</td>\n",
       "      <td>12.0</td>\n",
       "      <td>7.0</td>\n",
       "      <td>2.0</td>\n",
       "      <td>0.0</td>\n",
       "      <td>0.0</td>\n",
       "      <td>1.0</td>\n",
       "      <td>1.0</td>\n",
       "      <td>0.0</td>\n",
       "      <td>0.0</td>\n",
       "      <td>...</td>\n",
       "      <td>0.0</td>\n",
       "      <td>0.0</td>\n",
       "      <td>0.0</td>\n",
       "      <td>0.0</td>\n",
       "      <td>0.0</td>\n",
       "      <td>0.0</td>\n",
       "      <td>0.0</td>\n",
       "      <td>1.667707</td>\n",
       "      <td>49.0</td>\n",
       "      <td>4.0</td>\n",
       "    </tr>\n",
       "    <tr>\n",
       "      <td>...</td>\n",
       "      <td>...</td>\n",
       "      <td>...</td>\n",
       "      <td>...</td>\n",
       "      <td>...</td>\n",
       "      <td>...</td>\n",
       "      <td>...</td>\n",
       "      <td>...</td>\n",
       "      <td>...</td>\n",
       "      <td>...</td>\n",
       "      <td>...</td>\n",
       "      <td>...</td>\n",
       "      <td>...</td>\n",
       "      <td>...</td>\n",
       "      <td>...</td>\n",
       "      <td>...</td>\n",
       "      <td>...</td>\n",
       "      <td>...</td>\n",
       "      <td>...</td>\n",
       "      <td>...</td>\n",
       "      <td>...</td>\n",
       "      <td>...</td>\n",
       "    </tr>\n",
       "    <tr>\n",
       "      <td>521</td>\n",
       "      <td>15.00</td>\n",
       "      <td>16.0</td>\n",
       "      <td>14.0</td>\n",
       "      <td>2.0</td>\n",
       "      <td>0.0</td>\n",
       "      <td>1.0</td>\n",
       "      <td>1.0</td>\n",
       "      <td>2.0</td>\n",
       "      <td>0.0</td>\n",
       "      <td>0.0</td>\n",
       "      <td>...</td>\n",
       "      <td>0.0</td>\n",
       "      <td>0.0</td>\n",
       "      <td>0.0</td>\n",
       "      <td>1.0</td>\n",
       "      <td>1.0</td>\n",
       "      <td>0.0</td>\n",
       "      <td>0.0</td>\n",
       "      <td>2.708050</td>\n",
       "      <td>196.0</td>\n",
       "      <td>4.0</td>\n",
       "    </tr>\n",
       "    <tr>\n",
       "      <td>522</td>\n",
       "      <td>2.27</td>\n",
       "      <td>10.0</td>\n",
       "      <td>2.0</td>\n",
       "      <td>0.0</td>\n",
       "      <td>0.0</td>\n",
       "      <td>1.0</td>\n",
       "      <td>0.0</td>\n",
       "      <td>3.0</td>\n",
       "      <td>0.0</td>\n",
       "      <td>0.0</td>\n",
       "      <td>...</td>\n",
       "      <td>0.0</td>\n",
       "      <td>1.0</td>\n",
       "      <td>0.0</td>\n",
       "      <td>0.0</td>\n",
       "      <td>1.0</td>\n",
       "      <td>0.0</td>\n",
       "      <td>0.0</td>\n",
       "      <td>0.819780</td>\n",
       "      <td>4.0</td>\n",
       "      <td>0.0</td>\n",
       "    </tr>\n",
       "    <tr>\n",
       "      <td>523</td>\n",
       "      <td>4.67</td>\n",
       "      <td>15.0</td>\n",
       "      <td>13.0</td>\n",
       "      <td>18.0</td>\n",
       "      <td>0.0</td>\n",
       "      <td>0.0</td>\n",
       "      <td>1.0</td>\n",
       "      <td>3.0</td>\n",
       "      <td>0.0</td>\n",
       "      <td>0.0</td>\n",
       "      <td>...</td>\n",
       "      <td>0.0</td>\n",
       "      <td>0.0</td>\n",
       "      <td>0.0</td>\n",
       "      <td>0.0</td>\n",
       "      <td>1.0</td>\n",
       "      <td>0.0</td>\n",
       "      <td>0.0</td>\n",
       "      <td>1.541159</td>\n",
       "      <td>169.0</td>\n",
       "      <td>324.0</td>\n",
       "    </tr>\n",
       "    <tr>\n",
       "      <td>524</td>\n",
       "      <td>11.56</td>\n",
       "      <td>16.0</td>\n",
       "      <td>5.0</td>\n",
       "      <td>1.0</td>\n",
       "      <td>0.0</td>\n",
       "      <td>0.0</td>\n",
       "      <td>1.0</td>\n",
       "      <td>0.0</td>\n",
       "      <td>0.0</td>\n",
       "      <td>0.0</td>\n",
       "      <td>...</td>\n",
       "      <td>0.0</td>\n",
       "      <td>0.0</td>\n",
       "      <td>0.0</td>\n",
       "      <td>0.0</td>\n",
       "      <td>0.0</td>\n",
       "      <td>0.0</td>\n",
       "      <td>0.0</td>\n",
       "      <td>2.447551</td>\n",
       "      <td>25.0</td>\n",
       "      <td>1.0</td>\n",
       "    </tr>\n",
       "    <tr>\n",
       "      <td>525</td>\n",
       "      <td>3.50</td>\n",
       "      <td>14.0</td>\n",
       "      <td>5.0</td>\n",
       "      <td>4.0</td>\n",
       "      <td>1.0</td>\n",
       "      <td>1.0</td>\n",
       "      <td>0.0</td>\n",
       "      <td>2.0</td>\n",
       "      <td>0.0</td>\n",
       "      <td>0.0</td>\n",
       "      <td>...</td>\n",
       "      <td>0.0</td>\n",
       "      <td>0.0</td>\n",
       "      <td>0.0</td>\n",
       "      <td>1.0</td>\n",
       "      <td>0.0</td>\n",
       "      <td>1.0</td>\n",
       "      <td>0.0</td>\n",
       "      <td>1.252763</td>\n",
       "      <td>25.0</td>\n",
       "      <td>16.0</td>\n",
       "    </tr>\n",
       "  </tbody>\n",
       "</table>\n",
       "<p>526 rows × 24 columns</p>\n",
       "</div>"
      ],
      "text/plain": [
       "      wage  educ  exper  tenure  nonwhite  female  married  numdep  smsa  \\\n",
       "0     3.10  11.0    2.0     0.0       0.0     1.0      0.0     2.0   1.0   \n",
       "1     3.24  12.0   22.0     2.0       0.0     1.0      1.0     3.0   1.0   \n",
       "2     3.00  11.0    2.0     0.0       0.0     0.0      0.0     2.0   0.0   \n",
       "3     6.00   8.0   44.0    28.0       0.0     0.0      1.0     0.0   1.0   \n",
       "4     5.30  12.0    7.0     2.0       0.0     0.0      1.0     1.0   0.0   \n",
       "..     ...   ...    ...     ...       ...     ...      ...     ...   ...   \n",
       "521  15.00  16.0   14.0     2.0       0.0     1.0      1.0     2.0   0.0   \n",
       "522   2.27  10.0    2.0     0.0       0.0     1.0      0.0     3.0   0.0   \n",
       "523   4.67  15.0   13.0    18.0       0.0     0.0      1.0     3.0   0.0   \n",
       "524  11.56  16.0    5.0     1.0       0.0     0.0      1.0     0.0   0.0   \n",
       "525   3.50  14.0    5.0     4.0       1.0     1.0      0.0     2.0   0.0   \n",
       "\n",
       "     northcen  ...  trcommpu  trade  services  profserv  profocc  clerocc  \\\n",
       "0         0.0  ...       0.0    0.0       0.0       0.0      0.0      0.0   \n",
       "1         0.0  ...       0.0    0.0       1.0       0.0      0.0      0.0   \n",
       "2         0.0  ...       0.0    1.0       0.0       0.0      0.0      0.0   \n",
       "3         0.0  ...       0.0    0.0       0.0       0.0      0.0      1.0   \n",
       "4         0.0  ...       0.0    0.0       0.0       0.0      0.0      0.0   \n",
       "..        ...  ...       ...    ...       ...       ...      ...      ...   \n",
       "521       0.0  ...       0.0    0.0       0.0       1.0      1.0      0.0   \n",
       "522       0.0  ...       0.0    1.0       0.0       0.0      1.0      0.0   \n",
       "523       0.0  ...       0.0    0.0       0.0       0.0      1.0      0.0   \n",
       "524       0.0  ...       0.0    0.0       0.0       0.0      0.0      0.0   \n",
       "525       0.0  ...       0.0    0.0       0.0       1.0      0.0      1.0   \n",
       "\n",
       "     servocc     lwage  expersq  tenursq  \n",
       "0        0.0  1.131402      4.0      0.0  \n",
       "1        1.0  1.175573    484.0      4.0  \n",
       "2        0.0  1.098612      4.0      0.0  \n",
       "3        0.0  1.791759   1936.0    784.0  \n",
       "4        0.0  1.667707     49.0      4.0  \n",
       "..       ...       ...      ...      ...  \n",
       "521      0.0  2.708050    196.0      4.0  \n",
       "522      0.0  0.819780      4.0      0.0  \n",
       "523      0.0  1.541159    169.0    324.0  \n",
       "524      0.0  2.447551     25.0      1.0  \n",
       "525      0.0  1.252763     25.0     16.0  \n",
       "\n",
       "[526 rows x 24 columns]"
      ]
     },
     "execution_count": 133,
     "metadata": {},
     "output_type": "execute_result"
    }
   ],
   "source": [
    "df\n"
   ]
  },
  {
   "cell_type": "code",
   "execution_count": 158,
   "metadata": {
    "scrolled": true
   },
   "outputs": [],
   "source": [
    "import statsmodels.api as sm"
   ]
  },
  {
   "cell_type": "markdown",
   "metadata": {},
   "source": [
    "#### Carregando as variáveis..."
   ]
  },
  {
   "cell_type": "code",
   "execution_count": 165,
   "metadata": {},
   "outputs": [],
   "source": [
    "X = df[['educ','exper','tenure']]# here we have 2 variables for multiple regression. If you just want to use one variable for simple linear regression, then use X = df['Interest_Rate'] for example.Alternatively, you may add additional variables within the brackets\n",
    "Y_1=df['wage']\n",
    "Y_2=df['lwage']"
   ]
  },
  {
   "cell_type": "markdown",
   "metadata": {},
   "source": [
    "#### Estimando as duas regressões..."
   ]
  },
  {
   "cell_type": "code",
   "execution_count": 210,
   "metadata": {},
   "outputs": [],
   "source": [
    "model_1 = sm.OLS(Y_1,X)\n",
    "results_1 = model_1.fit()\n",
    "predictedValues_1 = results_1.predict()\n",
    "#print predictedValues\n",
    "res_1 = Y_1 - predictedValues_1\n",
    "\n",
    "model_2 = sm.OLS(Y_2,X)\n",
    "results_2 = model_2.fit()\n",
    "predictedValues_2 = results_2.predict()\n",
    "res_2=Y_2 - predictedValues_2"
   ]
  },
  {
   "cell_type": "markdown",
   "metadata": {},
   "source": [
    "#### Função que plota o histograma dos resíduos e a distribuição normal com média e variância dadas pela média e variância dos resíduos\n",
    "\n",
    "Note que devemos passar a variável \"adaptador_normal\" para ajustar a visualização"
   ]
  },
  {
   "cell_type": "code",
   "execution_count": 229,
   "metadata": {},
   "outputs": [],
   "source": [
    "# Import modules\n",
    "import numpy as np\n",
    "import pandas as pd\n",
    "import matplotlib.pyplot as plt\n",
    "import scipy.stats as stats\n",
    "import math\n",
    " \n",
    "# Define functions\n",
    "def histogram(type_hist, data, adaptador_normal, varname, place):\n",
    "    \"\"\"\n",
    "    Plot histogram from given list values.\n",
    "    Histogram types: fixed_bin_size or fixed_number_bins\n",
    "    \"\"\"\n",
    "    title = 'Histograma - %s' %place\n",
    "    figname = 'hist_%s.png' %place\n",
    "    text = 'média = %.2f\\nmáximo = %.2f' % (data.mean(), max(data))\n",
    "\n",
    "    n_bins = 30\n",
    "    bin_size = 5\n",
    "    if type_hist == 'fixed_bin_size':\n",
    "        bins = np.arange(0, 100, bin_size)\n",
    "    elif type_hist == 'fixed_number_bins':\n",
    "        bins = np.linspace(math.ceil(min(data)), math.floor(max(data)), n_bins)\n",
    " \n",
    "    plt.xlim([min(data), max(data)])\n",
    "    plt.hist(data,n_bins)\n",
    "    plt.title(title)\n",
    "    plt.xlabel(varname)\n",
    "#plt.ylabel('contagens')\n",
    "    ax = plt.gca() # Get axis handle for text positioning\n",
    "    plt.text(0.95, 0.95, text, horizontalalignment='right', verticalalignment='top', transform=ax.transAxes)\n",
    "    mu = mean(data)\n",
    "    variance = var(data)\n",
    "    sigma = math.sqrt(variance)\n",
    "    x = np.linspace(mu - 3*sigma, mu + 3*sigma, 100)\n",
    "    plt.plot(x, adaptador_normal*stats.norm.pdf(x, mu, sigma))\n",
    "    plt.show()\n",
    "\n",
    "\n",
    "    \n",
    "    \n",
    "    plt.savefig(figname)\n",
    "    #plt.close()\n",
    "\n",
    " "
   ]
  },
  {
   "cell_type": "markdown",
   "metadata": {},
   "source": [
    "#### a)"
   ]
  },
  {
   "cell_type": "code",
   "execution_count": 230,
   "metadata": {
    "scrolled": true
   },
   "outputs": [
    {
     "data": {
      "image/png": "[encoded data removed]",
      "text/plain": [
       "<Figure size 432x288 with 1 Axes>"
      ]
     },
     "metadata": {
      "needs_background": "light"
     },
     "output_type": "display_data"
    },
    {
     "data": {
      "text/plain": [
       "<Figure size 432x288 with 0 Axes>"
      ]
     },
     "metadata": {},
     "output_type": "display_data"
    }
   ],
   "source": [
    "histogram('fixed_bin_size', res_1,800, 'valor Resíduos', 'Resíduos')"
   ]
  },
  {
   "cell_type": "markdown",
   "metadata": {},
   "source": [
    "#### b)"
   ]
  },
  {
   "cell_type": "code",
   "execution_count": 231,
   "metadata": {
    "scrolled": false
   },
   "outputs": [
    {
     "data": {
      "image/png": "[encoded data removed]",
      "text/plain": [
       "<Figure size 432x288 with 1 Axes>"
      ]
     },
     "metadata": {
      "needs_background": "light"
     },
     "output_type": "display_data"
    },
    {
     "data": {
      "text/plain": [
       "<Figure size 432x288 with 0 Axes>"
      ]
     },
     "metadata": {},
     "output_type": "display_data"
    }
   ],
   "source": [
    "histogram('fixed_bin_size', res_2,80, 'valor Resíduos', 'Resíduos')"
   ]
  },
  {
   "cell_type": "markdown",
   "metadata": {},
   "source": [
    "#### c)"
   ]
  },
  {
   "cell_type": "markdown",
   "metadata": {},
   "source": [
    "Ao analisar os histogramas e a distribuição normal, MRL6 é melhor satisfeta pelo modelo log-nível (os resíduos do modelo log-nível são melhor normalmente distribuidos)."
   ]
  },
  {
   "cell_type": "code",
   "execution_count": null,
   "metadata": {},
   "outputs": [],
   "source": []
  },
  {
   "cell_type": "code",
   "execution_count": null,
   "metadata": {},
   "outputs": [],
   "source": []
  },
  {
   "cell_type": "code",
   "execution_count": null,
   "metadata": {},
   "outputs": [],
   "source": []
  },
  {
   "cell_type": "code",
   "execution_count": null,
   "metadata": {},
   "outputs": [],
   "source": []
  },
  {
   "cell_type": "code",
   "execution_count": null,
   "metadata": {},
   "outputs": [],
   "source": []
  },
  {
   "cell_type": "code",
   "execution_count": null,
   "metadata": {},
   "outputs": [],
   "source": []
  }
 ],
 "metadata": {
  "kernelspec": {
   "display_name": "Python 3",
   "language": "python",
   "name": "python3"
  },
  "language_info": {
   "codemirror_mode": {
    "name": "ipython",
    "version": 3
   },
   "file_extension": ".py",
   "mimetype": "text/x-python",
   "name": "python",
   "nbconvert_exporter": "python",
   "pygments_lexer": "ipython3",
   "version": "3.7.4"
  }
 },
 "nbformat": 4,
 "nbformat_minor": 2
}
