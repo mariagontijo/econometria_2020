{
 "cells": [
  {
   "cell_type": "markdown",
   "metadata": {},
   "source": [
    "## Tutorial para resolução da Lista 2 de Econometria"
   ]
  },
  {
   "cell_type": "markdown",
   "metadata": {},
   "source": [
    "#### Matrizes\n",
    "Para trabalhar com matrizes vocês irão precisar do pacote numpy. Para facilitar a estrita, salvaremos numpy como np"
   ]
  },
  {
   "cell_type": "code",
   "execution_count": null,
   "metadata": {},
   "outputs": [],
   "source": [
    "import numpy as np "
   ]
  },
  {
   "cell_type": "code",
   "execution_count": 15,
   "metadata": {},
   "outputs": [
    {
     "data": {
      "text/plain": [
       "matrix([[1, 2],\n",
       "        [3, 4]])"
      ]
     },
     "execution_count": 15,
     "metadata": {},
     "output_type": "execute_result"
    }
   ],
   "source": [
    "a = np.matrix('1 2; 3 4')\n",
    "a"
   ]
  },
  {
   "cell_type": "code",
   "execution_count": 16,
   "metadata": {},
   "outputs": [
    {
     "data": {
      "text/plain": [
       "matrix([[ 1,  4],\n",
       "        [ 9, 16]])"
      ]
     },
     "execution_count": 16,
     "metadata": {},
     "output_type": "execute_result"
    }
   ],
   "source": [
    "np.power(a, 2)"
   ]
  },
  {
   "cell_type": "markdown",
   "metadata": {},
   "source": [
    "#### Histograma"
   ]
  },
  {
   "cell_type": "markdown",
   "metadata": {},
   "source": [
    "Para realização de histogramas iremos abrir o arquivo que neste exemplo é um dos arquivos.dta que está na pasta arquivos.dta \n",
    "Note que o caminho 'arquivos.dta/ceosal2.dta' abaixo é de tão modo pois abri este jupyter notebook em uma pasta que possui como subpasta \"arquivos.dta\".\n",
    "Aqui também precisaremos do pacote pandas e matplotlib.pyplot e contruiremos por fim uma função que retorna o histograma a partir da variável selecionada, calcula média, máximo e \n",
    "salva o histograma na pasta em que este jupyter notebook foi aberto. "
   ]
  },
  {
   "cell_type": "code",
   "execution_count": 1,
   "metadata": {},
   "outputs": [],
   "source": [
    "import pandas as pd"
   ]
  },
  {
   "cell_type": "code",
   "execution_count": 2,
   "metadata": {},
   "outputs": [],
   "source": [
    "df = pd.read_stata('arquivos.dta/ceosal2.dta')"
   ]
  },
  {
   "cell_type": "code",
   "execution_count": 17,
   "metadata": {},
   "outputs": [
    {
     "data": {
      "text/html": [
       "<div>\n",
       "<style scoped>\n",
       "    .dataframe tbody tr th:only-of-type {\n",
       "        vertical-align: middle;\n",
       "    }\n",
       "\n",
       "    .dataframe tbody tr th {\n",
       "        vertical-align: top;\n",
       "    }\n",
       "\n",
       "    .dataframe thead th {\n",
       "        text-align: right;\n",
       "    }\n",
       "</style>\n",
       "<table border=\"1\" class=\"dataframe\">\n",
       "  <thead>\n",
       "    <tr style=\"text-align: right;\">\n",
       "      <th></th>\n",
       "      <th>salary</th>\n",
       "      <th>age</th>\n",
       "      <th>college</th>\n",
       "      <th>grad</th>\n",
       "      <th>comten</th>\n",
       "      <th>ceoten</th>\n",
       "      <th>sales</th>\n",
       "      <th>profits</th>\n",
       "      <th>mktval</th>\n",
       "      <th>lsalary</th>\n",
       "      <th>lsales</th>\n",
       "      <th>lmktval</th>\n",
       "      <th>comtensq</th>\n",
       "      <th>ceotensq</th>\n",
       "      <th>profmarg</th>\n",
       "    </tr>\n",
       "  </thead>\n",
       "  <tbody>\n",
       "    <tr>\n",
       "      <td>0</td>\n",
       "      <td>1161</td>\n",
       "      <td>49</td>\n",
       "      <td>1</td>\n",
       "      <td>1</td>\n",
       "      <td>9</td>\n",
       "      <td>2</td>\n",
       "      <td>6200.0</td>\n",
       "      <td>966</td>\n",
       "      <td>23200.0</td>\n",
       "      <td>7.057037</td>\n",
       "      <td>8.732305</td>\n",
       "      <td>10.051908</td>\n",
       "      <td>81</td>\n",
       "      <td>4</td>\n",
       "      <td>15.580646</td>\n",
       "    </tr>\n",
       "    <tr>\n",
       "      <td>1</td>\n",
       "      <td>600</td>\n",
       "      <td>43</td>\n",
       "      <td>1</td>\n",
       "      <td>1</td>\n",
       "      <td>10</td>\n",
       "      <td>10</td>\n",
       "      <td>283.0</td>\n",
       "      <td>48</td>\n",
       "      <td>1100.0</td>\n",
       "      <td>6.396930</td>\n",
       "      <td>5.645447</td>\n",
       "      <td>7.003066</td>\n",
       "      <td>100</td>\n",
       "      <td>100</td>\n",
       "      <td>16.961130</td>\n",
       "    </tr>\n",
       "    <tr>\n",
       "      <td>2</td>\n",
       "      <td>379</td>\n",
       "      <td>51</td>\n",
       "      <td>1</td>\n",
       "      <td>1</td>\n",
       "      <td>9</td>\n",
       "      <td>3</td>\n",
       "      <td>169.0</td>\n",
       "      <td>40</td>\n",
       "      <td>1100.0</td>\n",
       "      <td>5.937536</td>\n",
       "      <td>5.129899</td>\n",
       "      <td>7.003066</td>\n",
       "      <td>81</td>\n",
       "      <td>9</td>\n",
       "      <td>23.668638</td>\n",
       "    </tr>\n",
       "    <tr>\n",
       "      <td>3</td>\n",
       "      <td>651</td>\n",
       "      <td>55</td>\n",
       "      <td>1</td>\n",
       "      <td>0</td>\n",
       "      <td>22</td>\n",
       "      <td>22</td>\n",
       "      <td>1100.0</td>\n",
       "      <td>-54</td>\n",
       "      <td>1000.0</td>\n",
       "      <td>6.478509</td>\n",
       "      <td>7.003066</td>\n",
       "      <td>6.907755</td>\n",
       "      <td>484</td>\n",
       "      <td>484</td>\n",
       "      <td>-4.909091</td>\n",
       "    </tr>\n",
       "    <tr>\n",
       "      <td>4</td>\n",
       "      <td>497</td>\n",
       "      <td>44</td>\n",
       "      <td>1</td>\n",
       "      <td>1</td>\n",
       "      <td>8</td>\n",
       "      <td>6</td>\n",
       "      <td>351.0</td>\n",
       "      <td>28</td>\n",
       "      <td>387.0</td>\n",
       "      <td>6.208590</td>\n",
       "      <td>5.860786</td>\n",
       "      <td>5.958425</td>\n",
       "      <td>64</td>\n",
       "      <td>36</td>\n",
       "      <td>7.977208</td>\n",
       "    </tr>\n",
       "    <tr>\n",
       "      <td>...</td>\n",
       "      <td>...</td>\n",
       "      <td>...</td>\n",
       "      <td>...</td>\n",
       "      <td>...</td>\n",
       "      <td>...</td>\n",
       "      <td>...</td>\n",
       "      <td>...</td>\n",
       "      <td>...</td>\n",
       "      <td>...</td>\n",
       "      <td>...</td>\n",
       "      <td>...</td>\n",
       "      <td>...</td>\n",
       "      <td>...</td>\n",
       "      <td>...</td>\n",
       "      <td>...</td>\n",
       "    </tr>\n",
       "    <tr>\n",
       "      <td>172</td>\n",
       "      <td>264</td>\n",
       "      <td>63</td>\n",
       "      <td>1</td>\n",
       "      <td>0</td>\n",
       "      <td>42</td>\n",
       "      <td>3</td>\n",
       "      <td>334.0</td>\n",
       "      <td>43</td>\n",
       "      <td>480.0</td>\n",
       "      <td>5.575949</td>\n",
       "      <td>5.811141</td>\n",
       "      <td>6.173786</td>\n",
       "      <td>1764</td>\n",
       "      <td>9</td>\n",
       "      <td>12.874251</td>\n",
       "    </tr>\n",
       "    <tr>\n",
       "      <td>173</td>\n",
       "      <td>185</td>\n",
       "      <td>58</td>\n",
       "      <td>1</td>\n",
       "      <td>0</td>\n",
       "      <td>39</td>\n",
       "      <td>1</td>\n",
       "      <td>766.0</td>\n",
       "      <td>49</td>\n",
       "      <td>560.0</td>\n",
       "      <td>5.220356</td>\n",
       "      <td>6.641182</td>\n",
       "      <td>6.327937</td>\n",
       "      <td>1521</td>\n",
       "      <td>1</td>\n",
       "      <td>6.396867</td>\n",
       "    </tr>\n",
       "    <tr>\n",
       "      <td>174</td>\n",
       "      <td>387</td>\n",
       "      <td>71</td>\n",
       "      <td>1</td>\n",
       "      <td>1</td>\n",
       "      <td>32</td>\n",
       "      <td>13</td>\n",
       "      <td>432.0</td>\n",
       "      <td>28</td>\n",
       "      <td>477.0</td>\n",
       "      <td>5.958425</td>\n",
       "      <td>6.068426</td>\n",
       "      <td>6.167517</td>\n",
       "      <td>1024</td>\n",
       "      <td>169</td>\n",
       "      <td>6.481482</td>\n",
       "    </tr>\n",
       "    <tr>\n",
       "      <td>175</td>\n",
       "      <td>2220</td>\n",
       "      <td>63</td>\n",
       "      <td>1</td>\n",
       "      <td>1</td>\n",
       "      <td>18</td>\n",
       "      <td>18</td>\n",
       "      <td>277.0</td>\n",
       "      <td>-80</td>\n",
       "      <td>540.0</td>\n",
       "      <td>7.705263</td>\n",
       "      <td>5.624018</td>\n",
       "      <td>6.291569</td>\n",
       "      <td>324</td>\n",
       "      <td>324</td>\n",
       "      <td>-28.880867</td>\n",
       "    </tr>\n",
       "    <tr>\n",
       "      <td>176</td>\n",
       "      <td>445</td>\n",
       "      <td>69</td>\n",
       "      <td>1</td>\n",
       "      <td>0</td>\n",
       "      <td>23</td>\n",
       "      <td>0</td>\n",
       "      <td>249.0</td>\n",
       "      <td>31</td>\n",
       "      <td>828.0</td>\n",
       "      <td>6.098074</td>\n",
       "      <td>5.517453</td>\n",
       "      <td>6.719013</td>\n",
       "      <td>529</td>\n",
       "      <td>0</td>\n",
       "      <td>12.449800</td>\n",
       "    </tr>\n",
       "  </tbody>\n",
       "</table>\n",
       "<p>177 rows × 15 columns</p>\n",
       "</div>"
      ],
      "text/plain": [
       "     salary  age  college  grad  comten  ceoten   sales  profits   mktval  \\\n",
       "0      1161   49        1     1       9       2  6200.0      966  23200.0   \n",
       "1       600   43        1     1      10      10   283.0       48   1100.0   \n",
       "2       379   51        1     1       9       3   169.0       40   1100.0   \n",
       "3       651   55        1     0      22      22  1100.0      -54   1000.0   \n",
       "4       497   44        1     1       8       6   351.0       28    387.0   \n",
       "..      ...  ...      ...   ...     ...     ...     ...      ...      ...   \n",
       "172     264   63        1     0      42       3   334.0       43    480.0   \n",
       "173     185   58        1     0      39       1   766.0       49    560.0   \n",
       "174     387   71        1     1      32      13   432.0       28    477.0   \n",
       "175    2220   63        1     1      18      18   277.0      -80    540.0   \n",
       "176     445   69        1     0      23       0   249.0       31    828.0   \n",
       "\n",
       "      lsalary    lsales    lmktval  comtensq  ceotensq   profmarg  \n",
       "0    7.057037  8.732305  10.051908        81         4  15.580646  \n",
       "1    6.396930  5.645447   7.003066       100       100  16.961130  \n",
       "2    5.937536  5.129899   7.003066        81         9  23.668638  \n",
       "3    6.478509  7.003066   6.907755       484       484  -4.909091  \n",
       "4    6.208590  5.860786   5.958425        64        36   7.977208  \n",
       "..        ...       ...        ...       ...       ...        ...  \n",
       "172  5.575949  5.811141   6.173786      1764         9  12.874251  \n",
       "173  5.220356  6.641182   6.327937      1521         1   6.396867  \n",
       "174  5.958425  6.068426   6.167517      1024       169   6.481482  \n",
       "175  7.705263  5.624018   6.291569       324       324 -28.880867  \n",
       "176  6.098074  5.517453   6.719013       529         0  12.449800  \n",
       "\n",
       "[177 rows x 15 columns]"
      ]
     },
     "execution_count": 17,
     "metadata": {},
     "output_type": "execute_result"
    }
   ],
   "source": [
    "df\n"
   ]
  },
  {
   "cell_type": "code",
   "execution_count": 18,
   "metadata": {},
   "outputs": [
    {
     "data": {
      "text/plain": [
       "0      7.057037\n",
       "1      6.396930\n",
       "2      5.937536\n",
       "3      6.478509\n",
       "4      6.208590\n",
       "         ...   \n",
       "172    5.575949\n",
       "173    5.220356\n",
       "174    5.958425\n",
       "175    7.705263\n",
       "176    6.098074\n",
       "Name: lsalary, Length: 177, dtype: float32"
      ]
     },
     "execution_count": 18,
     "metadata": {},
     "output_type": "execute_result"
    }
   ],
   "source": [
    "df['lsalary']"
   ]
  },
  {
   "cell_type": "code",
   "execution_count": 9,
   "metadata": {},
   "outputs": [],
   "source": [
    "# Import modules\n",
    "import numpy as np\n",
    "import pandas as pd\n",
    "import matplotlib.pyplot as plt\n",
    " \n",
    "# Define functions\n",
    "def histogram(type_hist, data, varname, place):\n",
    "    \"\"\"\n",
    "    Plot histogram from given list values.\n",
    "    Histogram types: fixed_bin_size or fixed_number_bins\n",
    "    \"\"\"\n",
    "    title = 'Histograma - %s' %place\n",
    "    figname = 'hist_%s.png' %place\n",
    "    text = 'média = %.2f\\nmáximo = %.2f' % (data.mean(), max(data))\n",
    "\n",
    "    n_bins = 30\n",
    "    bin_size = 5\n",
    "    if type_hist == 'fixed_bin_size':\n",
    "        bins = np.arange(0, 100, bin_size)\n",
    "    elif type_hist == 'fixed_number_bins':\n",
    "        bins = np.linspace(math.ceil(min(data)), math.floor(max(data)), n_bins)\n",
    " \n",
    "    plt.xlim([min(data)-5, max(data)+5])\n",
    "    plt.hist(data, bins=bins)\n",
    "    plt.title(title)\n",
    "    plt.xlabel(varname)\n",
    "#plt.ylabel('contagens')\n",
    "    ax = plt.gca() # Get axis handle for text positioning\n",
    "    plt.text(0.95, 0.95, text, horizontalalignment='right', verticalalignment='top', transform=ax.transAxes)\n",
    "    plt.savefig(figname)\n",
    "    #plt.close()\n",
    "\n",
    " "
   ]
  },
  {
   "cell_type": "code",
   "execution_count": 13,
   "metadata": {},
   "outputs": [
    {
     "data": {
      "image/png": "[encoded data removed]",
      "text/plain": [
       "<Figure size 432x288 with 1 Axes>"
      ]
     },
     "metadata": {
      "needs_background": "light"
     },
     "output_type": "display_data"
    }
   ],
   "source": [
    "histogram('fixed_bin_size', df['lsalary'], 'valor Log Salary', 'Log do salário')"
   ]
  },
  {
   "cell_type": "code",
   "execution_count": null,
   "metadata": {},
   "outputs": [],
   "source": []
  },
  {
   "cell_type": "code",
   "execution_count": null,
   "metadata": {},
   "outputs": [],
   "source": []
  }
 ],
 "metadata": {
  "kernelspec": {
   "display_name": "Python 3",
   "language": "python",
   "name": "python3"
  },
  "language_info": {
   "codemirror_mode": {
    "name": "ipython",
    "version": 3
   },
   "file_extension": ".py",
   "mimetype": "text/x-python",
   "name": "python",
   "nbconvert_exporter": "python",
   "pygments_lexer": "ipython3",
   "version": "3.7.4"
  }
 },
 "nbformat": 4,
 "nbformat_minor": 2
}
